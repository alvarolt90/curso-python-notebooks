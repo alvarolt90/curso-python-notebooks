{
 "cells": [
  {
   "cell_type": "markdown",
   "id": "b64ff2e2-f89e-4d54-beeb-8685e24d7390",
   "metadata": {},
   "source": [
    "## Ejercicio 1"
   ]
  },
  {
   "cell_type": "markdown",
   "id": "598c3363-05a8-493b-93be-1d899a87e62e",
   "metadata": {},
   "source": [
    "Pintar menu mientras que la opcion sea diferente de 4.\n",
    "\n",
    "1. Pintar cuadrado --> \"Has seleccionado la opcion 1\"\n",
    "pregunta: indica el tamaño del cuadrado: 4\n",
    "* * * *\n",
    "*     *\n",
    "*     *\n",
    "* * * *\n",
    "\n",
    "2. Validar email --> \"Has seleccionado la opcion 2\"\n",
    "lista con 3 emails, validar cada uno de los emails, si un email no es válido indica que no es correcto y los motivos\n",
    "- no puede tener espacios en blanco\n",
    "- solo tiene que tener una @\n",
    "- despues de la @ tiene que haber al menos un punto\n",
    "- la distancia entre la @ y el punto tiene que ser al menos de dos caracteres\n",
    "- despues del ultimo punto tiene que haber entre dos y 5 caracteres\n",
    "\n",
    "3. Insertar alumnos --> \"Has seleccionado la opcion 3\"\n",
    "4. Salir --> \"Has seleccionado la opcion 4\"\n",
    "\n",
    "Otra opcion --> opcion incorrecta\n"
   ]
  },
  {
   "cell_type": "code",
   "execution_count": 1,
   "id": "0556a16d-a32e-442a-8df4-6f0abdfe3851",
   "metadata": {},
   "outputs": [
    {
     "name": "stdout",
     "output_type": "stream",
     "text": [
      "1. Pintar cuadrado\n",
      "2. Validar email\n",
      "3. Insertar alumnos\n",
      "4. Salir\n"
     ]
    },
    {
     "name": "stdin",
     "output_type": "stream",
     "text": [
      "Seleccione una opcion:  4\n"
     ]
    },
    {
     "name": "stdout",
     "output_type": "stream",
     "text": [
      "Has seleccionado la opcion 4. ¡Adios!\n"
     ]
    }
   ],
   "source": [
    "#Inicializo la variable\n",
    "opcion = ''\n",
    "\n",
    "#Muestro el menú\n",
    "while opcion != '4':\n",
    "    print(\"1. Pintar cuadrado\\n2. Validar email\\n3. Insertar alumnos\\n4. Salir\")\n",
    "    #Guardo la opcion elegida\n",
    "    opcion = input(\"Seleccione una opcion: \")\n",
    "    #Muestro la opcion elegida y si es correcta\n",
    "    texto = \"Has seleccionado la opcion \"\n",
    "    if opcion == '1':\n",
    "        print(texto + \"1\")\n",
    "        #Pido tamaño del cuadrado\n",
    "        tamanio_cuadrado = int(input(\"Introduce el tamaño del cuadrado: \"))\n",
    "        caracter = \"*\"\n",
    "        #Pinto el cuadrado\n",
    "        for linea in range(tamanio_cuadrado):\n",
    "            if linea == 0 or linea == tamanio_cuadrado-1:\n",
    "                print(tamanio_cuadrado * caracter)\n",
    "            else:\n",
    "                print(caracter, end = \"\")\n",
    "                cadena = \" \" * (tamanio_cuadrado - 2)\n",
    "                print(cadena, end=\"\")\n",
    "                print(caracter)\n",
    "            \n",
    "    elif opcion =='2':\n",
    "        lista_emails = [\"asdasdad.es\", \"asda sdfasdf@sad.es\", \"sdfa@dasf@dasfa.es\"]\n",
    "        for email in lista_emails:\n",
    "            errores = \"\"\n",
    "            #Contar los espacios en blanco\n",
    "            email = email.strip()\n",
    "            if email.count(\" \") > 0:\n",
    "                errores += \"No puede haber espacios en blanco.\"\n",
    "            #Comprobar que no hay mas de una @\n",
    "            if not email.count('@') == 1:\n",
    "                errores += \"Debe de haber una @.\"\n",
    "            #Comprobar que al menos hay un punto despues de la @\n",
    "            if email.split('@')[-1].count('.') >= 1:\n",
    "                errores += \"Despues de la @ tiene que haber un punto.\"\n",
    "            #La distancia entre la @ y el punto tiene que ser al menos de dos caracteres\n",
    "            if email[ email.find('@') + 1 : ].find('.') > 1:\n",
    "                errores +=  \"La distancia entre la @ y el primer punto debe ser mayor.\"\n",
    "            #Despues del ultimo punto tiene que haber entre dos y 5 caracteres\n",
    "            if len(email.split('.')[-1]) < 2 or len(email.split('.')) > 5:\n",
    "                errores += \"El subdominio del email debe estar entre dos y cinco.\"\n",
    "            #Compruebo errores y los muestro\n",
    "            if errores == \"\":\n",
    "                print(f\"El email {email} es correcto\")\n",
    "            else:\n",
    "                print(f\"El email {email} no es correcto, {errores}\")        \n",
    "    elif opcion == '3':\n",
    "        print(texto + \"3\")\n",
    "    elif opcion == '4':\n",
    "        print(texto + \"4. ¡Adios!\")\n",
    "    else:\n",
    "        print(\"Opcion incorrecta, vuelve a intentarlo\")"
   ]
  },
  {
   "cell_type": "code",
   "execution_count": null,
   "id": "790d6b31-cf16-47d1-9180-bfcb83ae9cab",
   "metadata": {},
   "outputs": [],
   "source": []
  },
  {
   "cell_type": "code",
   "execution_count": null,
   "id": "9faafa34-fa48-4a24-86a3-2d804ffe817b",
   "metadata": {},
   "outputs": [],
   "source": []
  }
 ],
 "metadata": {
  "kernelspec": {
   "display_name": "Python 3 (ipykernel)",
   "language": "python",
   "name": "python3"
  },
  "language_info": {
   "codemirror_mode": {
    "name": "ipython",
    "version": 3
   },
   "file_extension": ".py",
   "mimetype": "text/x-python",
   "name": "python",
   "nbconvert_exporter": "python",
   "pygments_lexer": "ipython3",
   "version": "3.9.13"
  }
 },
 "nbformat": 4,
 "nbformat_minor": 5
}
