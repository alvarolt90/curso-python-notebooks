{
 "cells": [
  {
   "cell_type": "code",
   "execution_count": 20,
   "id": "5d314b75-6a8a-4487-b237-dc7c8f9b373e",
   "metadata": {},
   "outputs": [
    {
     "name": "stdin",
     "output_type": "stream",
     "text": [
      "¿introduce dni? 2334\n"
     ]
    }
   ],
   "source": [
    "colegio = {1:[\"1234\", \"324\"], 2:[\"\"], 3:[\"\"]}\n",
    "\n",
    "#aula = int(input(\"¿En que aula quieres inscribir al alumno?\"))\n",
    "#dni = input(\"Introduce el DNI\")\n",
    "#nombre = input(\"Introduce el Nombre\")\n",
    "#apellidos = input(\"Introduce los Apellidos\")\n",
    "\n",
    "\n",
    "dni = input(\"¿introduce dni?\")\n",
    "        \n",
    "for aul, alumno in colegio.items():\n",
    "    if alumno[0]==dni:\n",
    "        print(alumno)\n",
    "    else:\n",
    "        print(\"DNI incorrecto\")"
   ]
  },
  {
   "cell_type": "code",
   "execution_count": null,
   "id": "4a1b7a1c-e1dc-439d-b74d-2d538d719198",
   "metadata": {},
   "outputs": [],
   "source": []
  }
 ],
 "metadata": {
  "kernelspec": {
   "display_name": "Python 3 (ipykernel)",
   "language": "python",
   "name": "python3"
  },
  "language_info": {
   "codemirror_mode": {
    "name": "ipython",
    "version": 3
   },
   "file_extension": ".py",
   "mimetype": "text/x-python",
   "name": "python",
   "nbconvert_exporter": "python",
   "pygments_lexer": "ipython3",
   "version": "3.9.13"
  }
 },
 "nbformat": 4,
 "nbformat_minor": 5
}
