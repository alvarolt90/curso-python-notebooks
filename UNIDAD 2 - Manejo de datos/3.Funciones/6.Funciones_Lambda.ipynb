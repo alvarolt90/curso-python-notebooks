{
 "cells": [
  {
   "cell_type": "markdown",
   "metadata": {
    "id": "28pLXqvy4DXY"
   },
   "source": [
    "## **Funciones Lambda en Python**\n",
    "Las funciones lambda son una forma alternativa y efectiva de declarar funciones pequeñas. Son lo que se conoce como *funciones anónimas*, y como su nombre indica, son una clase de funciones definidas sin usar la palabra clave *def* o sin nombre.\n",
    "\n",
    "En Python, las funciones anónimas se declaran con la palabra clave *lambda*, de ahí el término funciones Lambda.\n",
    "\n",
    "\n"
   ]
  },
  {
   "cell_type": "markdown",
   "metadata": {
    "id": "M_HKp8EiMmLU"
   },
   "source": [
    "# **Tabla de contenidos**\n",
    "\n",
    "1. [Declarando Funciones Lambda](#1)\n",
    "\n",
    "2. [Argumentos en funciones Lambda](#2)\n",
    "\n",
    "    1. [Argumeto único](#21)\n",
    "\n",
    "    2. [Multiples argumentos](#22)\n",
    "\n",
    "    3. [Argumentos por defecto](#23)\n",
    "\n",
    "    4. [Número de argumentos variables](#24)\n",
    "\n",
    "3. [Diferencia entre Lambda y funciones definidas](#3)\n",
    "\n",
    "    1. [Sintaxis](#31)\n",
    "\n",
    "    2. [Usos](#32)\n",
    "\n",
    "4. [Usos de Funciones Lambda](#4)\n",
    "\n",
    "    1. [Uso con Listas](#41)\n",
    "\n",
    "    2. [Uso con Filter](#42)\n",
    "\n",
    "    3. [Uso con Map](#43)\n",
    "\n",
    "    4. [Uso con Reduce](#44)\n"
   ]
  },
  {
   "cell_type": "markdown",
   "metadata": {
    "id": "BWF-GCfXGleK"
   },
   "source": [
    "<a name= '1'></a>\n",
    "## Declarando Funciones Lambda\n",
    "\n",
    "Las funciones Lambda tienen una sintaxis bastante simple, se declaran de la siguiente manera:\n",
    "\n",
    "```python\n",
    "lambda a : a * a\n",
    "```\n",
    "- ***lambda*** es la palabra clave para definir la función\n",
    "\n",
    "- **_a_** es el argumento de la función\n",
    "\n",
    "- Todo después de ***:*** es la expresión que será evaluada\n"
   ]
  },
  {
   "cell_type": "markdown",
   "metadata": {
    "id": "KOrKDFhSpwII"
   },
   "source": [
    "Ejemplos:"
   ]
  },
  {
   "cell_type": "code",
   "execution_count": 1,
   "metadata": {},
   "outputs": [
    {
     "name": "stdout",
     "output_type": "stream",
     "text": [
      " Cuadrado de 5:  25\n",
      " Cuadrado de 6:  36\n"
     ]
    }
   ],
   "source": [
    "#Ejemplo1\n",
    "square = lambda x: x*x\n",
    "\n",
    "print(f' Cuadrado de 5:  {square(5)}')\n",
    "\n",
    "print(f' Cuadrado de 6:  {square(6)}')"
   ]
  },
  {
   "cell_type": "code",
   "execution_count": 2,
   "metadata": {
    "colab": {
     "base_uri": "https://localhost:8080/"
    },
    "id": "HVbdnbt9PIED",
    "outputId": "ddb2ff95-f132-4193-cf41-1984fb7a0884"
   },
   "outputs": [
    {
     "name": "stdout",
     "output_type": "stream",
     "text": [
      " Doble de 2:  4\n",
      " Doble de 8:  16\n"
     ]
    }
   ],
   "source": [
    "#Ejemplo2\n",
    "\n",
    "doub = lambda x: x*2\n",
    "\n",
    "print(f' Doble de 2:  {doub(2)}')\n",
    "\n",
    "print(f' Doble de 8:  {doub(8)}')"
   ]
  },
  {
   "cell_type": "markdown",
   "metadata": {},
   "source": [
    "Resulta que usar una función Lambda como esta no es la aplicación más común/convencional. De hecho, este uso exacto aparece como un antipatrón"
   ]
  },
  {
   "cell_type": "markdown",
   "metadata": {
    "id": "VjybY2baGxSg"
   },
   "source": [
    "<a name= '2'></a>\n",
    "## Argumentos de una Funcion Lambda"
   ]
  },
  {
   "cell_type": "markdown",
   "metadata": {
    "id": "Db0MKQtnv3XV"
   },
   "source": [
    "Arguments for Lambda functions have all the variation as for a normal function, and can accept all types of arguments as well. Here are a few examples of each:"
   ]
  },
  {
   "cell_type": "markdown",
   "metadata": {
    "id": "TLiOArTpG1Gz"
   },
   "source": [
    "<a name= '21'></a>\n",
    "### Argumento único"
   ]
  },
  {
   "cell_type": "code",
   "execution_count": 4,
   "metadata": {
    "colab": {
     "base_uri": "https://localhost:8080/"
    },
    "id": "cP1DytMawDeB",
    "outputId": "b79aa85d-c687-4401-e153-5c1bad35843a"
   },
   "outputs": [
    {
     "name": "stdout",
     "output_type": "stream",
     "text": [
      "Ejemplo de un único argumento:\n",
      "10 = 10\n",
      "10^2 = 100\n",
      "10+1 = 11\n",
      "10+1 = 9\n"
     ]
    }
   ],
   "source": [
    "# Este es el tipo de argumento estándar que tiene solo un parámetro y todas las operaciones se realizan solo en él\n",
    "\n",
    "identity = lambda a: a\n",
    "\n",
    "square = lambda a: a*a\n",
    "\n",
    "increment = lambda a: a+1\n",
    "\n",
    "decrement = lambda a: a-1\n",
    "\n",
    "var = 10\n",
    "\n",
    "print(f'''Ejemplo de un único argumento:\\n{var} = {identity(var)}\n",
    "{var}^2 = {square(var)}\\n{var}+1 = {increment(var)}\\n{var}+1 = {decrement(var)}''')"
   ]
  },
  {
   "cell_type": "markdown",
   "metadata": {
    "id": "k-sBz8aoG39N"
   },
   "source": [
    "<a name= '22'></a>\n",
    "### Multiples Argumentos"
   ]
  },
  {
   "cell_type": "code",
   "execution_count": 5,
   "metadata": {
    "colab": {
     "base_uri": "https://localhost:8080/"
    },
    "id": "AcW20p8ixbAD",
    "outputId": "83f3a8d2-4bc1-438d-e0ab-c5647b70a5aa"
   },
   "outputs": [
    {
     "name": "stdout",
     "output_type": "stream",
     "text": [
      "Ejemplos con múltiples argumentos:\n",
      "8^3 = 512\n",
      "8+3 = 11 \n"
     ]
    }
   ],
   "source": [
    "# Las funciones Lambda también pueden aceptar múltiples argumentos, rodeados por una coma (,)\n",
    "\n",
    "power = lambda num, exp: num**exp\n",
    "\n",
    "add_int = lambda a, b: a+b\n",
    "\n",
    "a, b = 8, 3\n",
    "\n",
    "print(f'Ejemplos con múltiples argumentos:\\n{a}^{b} = {power(a, b)}\\n{a}+{b} = {add_int(a, b)} ')"
   ]
  },
  {
   "cell_type": "markdown",
   "metadata": {
    "id": "zOfdeWLyvgRQ"
   },
   "source": [
    "<a name= '23'></a>\n",
    "### Argumentos por defecto"
   ]
  },
  {
   "cell_type": "code",
   "execution_count": 7,
   "metadata": {
    "colab": {
     "base_uri": "https://localhost:8080/"
    },
    "id": "9Zeqqj7Kz-BG",
    "outputId": "6a3d275f-b728-4a0b-ebe1-359915444e86"
   },
   "outputs": [
    {
     "name": "stdout",
     "output_type": "stream",
     "text": [
      "Ejemplos de argumentos por defecto en las Funciones Lambda:\n",
      "Hola Juan\n",
      "9^2 = 81\n"
     ]
    }
   ],
   "source": [
    "# También puede establecer valores predeterminados para los argumentos\n",
    "\n",
    "say_name = lambda greet, name=\"Juan\": f'{greet} {name}'\n",
    "\n",
    "power = lambda num, exp=2: num**exp\n",
    "\n",
    "var = 9\n",
    "\n",
    "print(f'Ejemplos de argumentos por defecto en las Funciones Lambda:\\n{say_name(\"Hola\")}\\n{var}^2 = {power(var)}')"
   ]
  },
  {
   "cell_type": "markdown",
   "metadata": {
    "id": "nGZZVP_Fvj1H"
   },
   "source": [
    "<a name= '24'></a>\n",
    "### Numero de argumentos variables"
   ]
  },
  {
   "cell_type": "code",
   "execution_count": 9,
   "metadata": {
    "colab": {
     "base_uri": "https://localhost:8080/"
    },
    "id": "7qY3hfwN2a_q",
    "outputId": "2a69d5a8-c378-42cf-90a9-aa155bf1a21b"
   },
   "outputs": [
    {
     "name": "stdout",
     "output_type": "stream",
     "text": [
      "Ejemplos de argumentos variables en las Funciones Lambda:\n",
      "Sumatorio de 1, 2, 3 = 6\n",
      "Media de 1, 2, 3 = 2.0\n"
     ]
    }
   ],
   "source": [
    "# Y finalmente, incluso puedes tener argumentos de longitud variable\n",
    "\n",
    "sum_ = lambda *nums: sum(nums)\n",
    "\n",
    "avg_ = lambda *nums: sum(nums)/len(nums)\n",
    "\n",
    "print(f'Ejemplos de argumentos variables en las Funciones Lambda:\\nSumatorio de 1, 2, 3 = {sum_(1, 2, 3)}\\nMedia de 1, 2, 3 = {avg_(1, 2, 3)}')"
   ]
  },
  {
   "cell_type": "markdown",
   "metadata": {
    "id": "F7tYK2wxGrki",
    "tags": []
   },
   "source": [
    "<a name= '3'></a>\n",
    "## Diferencia entre Lambda y funciones definidas"
   ]
  },
  {
   "cell_type": "markdown",
   "metadata": {
    "id": "1Skx658qs6qA"
   },
   "source": [
    "Las principales diferencias entre las funciones definidas y Lambda radican en su sintaxis, usos y limitaciones."
   ]
  },
  {
   "cell_type": "markdown",
   "metadata": {
    "id": "gB8I_jrNtCHw"
   },
   "source": [
    "<a name= '31'></a>\n",
    "### Sintaxis"
   ]
  },
  {
   "cell_type": "code",
   "execution_count": 10,
   "metadata": {
    "colab": {
     "base_uri": "https://localhost:8080/"
    },
    "id": "biRT5GpFs6EA",
    "outputId": "13a3f758-a824-4569-a3d9-340dea00dc02"
   },
   "outputs": [
    {
     "name": "stdout",
     "output_type": "stream",
     "text": [
      "Cubo de 5 usando una funcion definida: 125\n",
      "Cubo de 5 usando una función Lambda: 125\n"
     ]
    }
   ],
   "source": [
    "def cube_int(a):\n",
    "    return a**3\n",
    "\n",
    "cube_int_lambda = lambda a: a**3\n",
    "\n",
    "print(f'Cubo de 5 usando una funcion definida: {cube_int(5)}')\n",
    "\n",
    "print(f'Cubo de 5 usando una función Lambda: {cube_int_lambda(5)}')\n"
   ]
  },
  {
   "cell_type": "markdown",
   "metadata": {
    "id": "xtWwuoe5tnAm"
   },
   "source": [
    "<a name= '32'></a>\n",
    "### Usos"
   ]
  },
  {
   "cell_type": "code",
   "execution_count": 11,
   "metadata": {
    "colab": {
     "base_uri": "https://localhost:8080/"
    },
    "id": "x1HV9EVMtoTY",
    "outputId": "9bc9f66b-2100-4234-823c-4508dca5d252"
   },
   "outputs": [
    {
     "name": "stdout",
     "output_type": "stream",
     "text": [
      "Factorial de 3, 5, respectivamente: 6, 120\n"
     ]
    }
   ],
   "source": [
    "# Las funciones definidas se declaran para la reutilización y son de una estatura más 'permanente'\n",
    "\n",
    "def factorial(n):\n",
    "    if n == 1:\n",
    "        return 1\n",
    "    else:\n",
    "        return n*factorial(n-1)\n",
    "\n",
    "a, b = 3, 5\n",
    "\n",
    "#....\n",
    "\n",
    "fact1  = factorial(a)\n",
    "\n",
    "#.....\n",
    "\n",
    "fact2 = factorial(b)\n",
    "\n",
    "#....\n",
    "\n",
    "print(f'Factorial de {a}, {b}, respectivamente: {fact1}, {fact2}')"
   ]
  },
  {
   "cell_type": "markdown",
   "metadata": {
    "id": "2NdngCkh9BJ_"
   },
   "source": [
    "La función *factorial* se definió una vez al principio y se hizo referencia varias veces a lo largo del programa (el *#....* representa otro código como parte de un programa/aplicación más grande).\n",
    "En este sentido, las funciones definidas son más permanentes y se declaran teniendo en cuenta la reutilización."
   ]
  },
  {
   "cell_type": "code",
   "execution_count": 19,
   "metadata": {
    "id": "0fT2Pu3SuwTr"
   },
   "outputs": [
    {
     "name": "stdout",
     "output_type": "stream",
     "text": [
      "7.0\n"
     ]
    }
   ],
   "source": [
    "# Mientras que las funciones Lambda son más una función descartable y tienen una estatura más 'temporal'\n",
    "\n",
    "a, b, c, d, e, f, g = 7, 8, 6, 21, 10, 3, 2\n",
    "\n",
    "div_nums = (lambda a, b: d/f)\n",
    "\n",
    "#....\n",
    "\n",
    "print (div_nums(3,4))"
   ]
  },
  {
   "cell_type": "markdown",
   "metadata": {
    "id": "NRCo2SdH9fyt"
   },
   "source": [
    "La situación anterior muestra uno de los usos más convencionales de la función Lambda: sirven más como una función desechable, escrita como y cuando sea necesario sin tener que ocupar el espacio adicional que ocupan las funciones normales."
   ]
  },
  {
   "cell_type": "markdown",
   "metadata": {
    "id": "q4TT9jaeG693"
   },
   "source": [
    "<a name= '4'></a>\n",
    "## Usos de funciones lambda\n"
   ]
  },
  {
   "cell_type": "markdown",
   "metadata": {
    "id": "th_-NTpx98zU"
   },
   "source": [
    "Casos de uso de las funciones de Lambda:\n",
    "\n",
    "- **Proporciona legibilidad para funciones simples**: aunque el uso de funciones de Lambda con un nombre no es convencional, sigue siendo una forma de usarlas. Esto sería cuando tiene una función simple pero no quiere lidiar con la sintaxis de una función normal, y esto también mejora la legibilidad.\n",
    "\n",
    "- **Con funciones integradas**: funciones como filter(), map(), etc., requieren una función como entrada. Se puede pasar una función Lamdba simple en lugar de definir una función normal\n",
    "\n",
    "- **Como filtros para Listas**: las funciones Lambda se pueden usar en Comprensiones de listas, una forma abreviada de crear listas con una determinada condición.\n",
    "\n",
    "\n"
   ]
  },
  {
   "cell_type": "markdown",
   "metadata": {
    "id": "z_nDnrQOHGka"
   },
   "source": [
    "<a name= '41'></a>\n",
    "### Uso con listas"
   ]
  },
  {
   "cell_type": "code",
   "execution_count": 22,
   "metadata": {
    "colab": {
     "base_uri": "https://localhost:8080/"
    },
    "id": "V8ugJVal1g_J",
    "outputId": "50b9f18f-3553-431d-c89a-7344315b6189"
   },
   "outputs": [
    {
     "name": "stdout",
     "output_type": "stream",
     "text": [
      "Lista de elementos multiplos de 2: [2, 4, 6, 8, 10, 12, 14, 16, 18]\n"
     ]
    }
   ],
   "source": [
    "# Usar funciones lambda para crear listas\n",
    "# Crear lista con multiplos de 2\n",
    "\n",
    "mult_2 = [(lambda x : x*2)(num) for num in range(1, 10)]\n",
    "\n",
    "print(f\"Lista de elementos multiplos de 2: {mult_2}\")"
   ]
  },
  {
   "cell_type": "markdown",
   "metadata": {
    "id": "thHu7n_W87ZQ"
   },
   "source": [
    "Funciones como *filter, map y reduce* esperan una ***función*** y una ***lista*** como argumentos. Son lo que se conoce como funciones de **orden superior**. El alcance total de estas funciones está fuera del alcance de este cuaderno, pero para nuestros propósitos es mejor pensar en ellas como funciones que utilizan otras funciones más pequeñas."
   ]
  },
  {
   "cell_type": "markdown",
   "metadata": {
    "id": "BCrzEy2-HLU5"
   },
   "source": [
    "<a name= '42'></a>\n",
    "### Uso con filter"
   ]
  },
  {
   "cell_type": "markdown",
   "metadata": {
    "id": "sTuhd9hhDZFY"
   },
   "source": [
    "La función de ***filter*** devuelve elementos en la lista que solo coinciden con la condición mencionada en la función"
   ]
  },
  {
   "cell_type": "code",
   "execution_count": 25,
   "metadata": {
    "colab": {
     "base_uri": "https://localhost:8080/"
    },
    "id": "aXplaBZv8eDU",
    "outputId": "462da604-fef0-4de7-cbd8-4e0a3bb4c02e"
   },
   "outputs": [
    {
     "name": "stdout",
     "output_type": "stream",
     "text": [
      "Ejemplo 1:\n",
      "Listado de elementos originales: [1, 2, 3, 4, 5, 6, 7, 8, 9, 10, 11, 12, 13, 14, 15, 16, 17, 18, 19] | Numeros impares: [1, 3, 5, 7, 9, 11, 13, 15, 17, 19]\n",
      "\n",
      "\n",
      "Ejemplo 2:\n",
      "Listado de elementos originales: [1, 3, 19, 60, 39, 23, 3, 5, 67, 24, 11] | Listado de elementos mas grandes que (20): [60, 39, 23, 67, 24]\n",
      "\n",
      "\n",
      "Ejemplo 3:\n",
      "Listado de elementos originales: [1, 2, 3, 4, 5, 6, 7, 8, 9, 10, 11, 12, 13, 14, 15, 16, 17, 18, 19] | Listado de elementos divisibles por 3: [3, 6, 9, 12, 15, 18]\n",
      "\n",
      "\n",
      "Ejemplo 4:\n",
      "Listado de elementos originales: ['Uva', 'Mango', 'Naranja', 'Kiwi', 'Platano', 'Mandarina'] | Listado de elementos que contienen i: ['Kiwi', 'Mandarina']\n",
      "\n",
      "\n"
     ]
    }
   ],
   "source": [
    "# Usando Lambda para filtrar elementos en una lista\n",
    "# Filtra elementos impares en una lista\n",
    "\n",
    "nums = [(lambda x: x)(x) for x in range(1, 20)]\n",
    "\n",
    "odd = list(filter(lambda x: x%2 != 0, nums)) # Sintaxis: filter(func, list)\n",
    "\n",
    "# El ajuste adicional de la lista es convertir la salida del filtro en una lista de elementos legibles por humanos\n",
    "\n",
    "print(f'Ejemplo 1:\\nListado de elementos originales: {nums} | Numeros impares: {odd}\\n\\n')\n",
    "\n",
    "# Filtrar elementos mayores a cierto valor\n",
    "\n",
    "filtro = 20\n",
    "\n",
    "list_ = [1, 3, 19, 60, 39, 23, 3, 5, 67, 24, 11]\n",
    "\n",
    "filter_list = list(filter(lambda x: x>filtro, list_))\n",
    "\n",
    "print(f'Ejemplo 2:\\nListado de elementos originales: {list_} | Listado de elementos mas grandes que ({filtro}): {filter_list}\\n\\n')\n",
    "\n",
    "# Encuentra todos los elementos divisibles por 3\n",
    "\n",
    "div_2 = list(filter(lambda x: x%3 == 0, nums))\n",
    "\n",
    "print(f'Ejemplo 3:\\nListado de elementos originales: {nums} | Listado de elementos divisibles por 3: {div_2}\\n\\n')\n",
    "\n",
    "# Encuentra todos los elementos que contienen la letra i\n",
    "\n",
    "strings = [\"Uva\", \"Mango\", \"Naranja\", \"Kiwi\", \"Platano\", \"Mandarina\"]\n",
    "\n",
    "cont_i = list(filter(lambda x: \"i\" in x, strings))\n",
    "\n",
    "print(f'Ejemplo 4:\\nListado de elementos originales: {strings} | Listado de elementos que contienen i: {cont_i}\\n\\n')\n",
    "\n"
   ]
  },
  {
   "cell_type": "markdown",
   "metadata": {
    "id": "-udSx-oOHNex"
   },
   "source": [
    "<a name= '43'></a>\n",
    "### Uso con Map"
   ]
  },
  {
   "cell_type": "markdown",
   "metadata": {
    "id": "p0AYqOPhDwf3"
   },
   "source": [
    "Las funciones de mapa aplican una sola operación definida en la función en todos los elementos de la lista proporcionada"
   ]
  },
  {
   "cell_type": "code",
   "execution_count": 29,
   "metadata": {
    "colab": {
     "base_uri": "https://localhost:8080/"
    },
    "id": "Ik8rIN2eEb8n",
    "outputId": "1a13bd4a-0529-4b7a-f046-a1f281eddfe0"
   },
   "outputs": [
    {
     "name": "stdout",
     "output_type": "stream",
     "text": [
      "Ejemplo 1:\n",
      "Listado de elementos : [1, 2, 3, 4, 5, 6, 7, 8, 9] | Listado de elementos al cuadrado: [1, 4, 9, 16, 25, 36, 49, 64, 81]\n",
      "\n",
      "\n",
      "Ejemplo 2:\n",
      "Listado de elementos: ['Uva', 'Mango', 'Naranja', 'Kiwi', 'Platano', 'Mandarina'] | Listad de elementos en mayusculas: ['UVA', 'MANGO', 'NARANJA', 'KIWI', 'PLATANO', 'MANDARINA']\n"
     ]
    }
   ],
   "source": [
    "# Cuadrando cada elemento en una lista\n",
    "\n",
    "nums = [(lambda x: x)(num) for num in range(1, 10)]\n",
    "\n",
    "squares = list(map(lambda x: x**2, nums))\n",
    "\n",
    "print(f'Ejemplo 1:\\nListado de elementos : {nums} | Listado de elementos al cuadrado: {squares}\\n\\n')\n",
    "\n",
    "# Convertir mayusculas cada cadena en una lista\n",
    "\n",
    "strings = [\"Uva\", \"Mango\", \"Naranja\", \"Kiwi\", \"Platano\", \"Mandarina\"]\n",
    "\n",
    "rev = list(map(lambda x: x.upper(), strings))\n",
    "\n",
    "print(f'Ejemplo 2:\\nListado de elementos: {strings} | Listad de elementos en mayusculas: {rev}')"
   ]
  },
  {
   "cell_type": "markdown",
   "metadata": {
    "id": "TH5V1xlIHPlz"
   },
   "source": [
    "<a name= '44'></a>\n",
    "### Uso con Reduce\n"
   ]
  },
  {
   "cell_type": "markdown",
   "metadata": {
    "id": "6YCv3_acJRQk"
   },
   "source": [
    "La función reduce realiza la operación en la función repetidamente sobre la lista en pares para producir un resultado reducido"
   ]
  },
  {
   "cell_type": "code",
   "execution_count": 32,
   "metadata": {
    "colab": {
     "base_uri": "https://localhost:8080/"
    },
    "id": "4id6tjNzJL7q",
    "outputId": "46d1953e-ec49-4b11-e278-2050da3fb315"
   },
   "outputs": [
    {
     "name": "stdout",
     "output_type": "stream",
     "text": [
      "Ejemplo 1:\n",
      "Listado de elementos originales: [5, 8, 50, 100, 10, 20] | Sumatorio de los elementos: 193\n",
      "\n",
      "\n",
      "Ejemplo 2:\n",
      "Listado de elementos originales: [5, 8, 50, 100, 10, 20] | Máximo: 100\n"
     ]
    }
   ],
   "source": [
    "# Suma sobre todos los elementos\n",
    "\n",
    "from functools import reduce\n",
    "\n",
    "nums = [5, 8, 50, 100, 10, 20]\n",
    "\n",
    "sum_ = reduce((lambda x, y: x + y), nums) #resultados de los dos elementos anteriores se agregan al siguiente elemento y esto continúa hasta el final de la lista como (((((5+8)+50)+100)+10)+20)\n",
    "\n",
    "print(f'Ejemplo 1:\\nListado de elementos originales: {nums} | Sumatorio de los elementos: {sum_}\\n\\n')\n",
    "\n",
    "# Encuentra el elemento máximo en la lista\n",
    "\n",
    "max_ = reduce(lambda a,b : a if a > b else b,nums)\n",
    "\n",
    "print(f'Ejemplo 2:\\nListado de elementos originales: {nums} | Máximo: {max_}')\n"
   ]
  }
 ],
 "metadata": {
  "colab": {
   "name": "Lambda Functions Cheatsheet.ipynb",
   "provenance": [],
   "toc_visible": true
  },
  "kernelspec": {
   "display_name": "Python 3 (ipykernel)",
   "language": "python",
   "name": "python3"
  },
  "language_info": {
   "codemirror_mode": {
    "name": "ipython",
    "version": 3
   },
   "file_extension": ".py",
   "mimetype": "text/x-python",
   "name": "python",
   "nbconvert_exporter": "python",
   "pygments_lexer": "ipython3",
   "version": "3.9.13"
  }
 },
 "nbformat": 4,
 "nbformat_minor": 4
}
