{
 "cells": [
  {
   "cell_type": "markdown",
   "id": "b64ff2e2-f89e-4d54-beeb-8685e24d7390",
   "metadata": {},
   "source": [
    "## Ejercicio 1"
   ]
  },
  {
   "cell_type": "markdown",
   "id": "598c3363-05a8-493b-93be-1d899a87e62e",
   "metadata": {},
   "source": [
    "Pintar menu mientras que la opcion sea diferente de 4.\n",
    "\n",
    "1. Pintar cuadrado --> \"Has seleccionado la opcion 1\"\n",
    "pregunta: indica el tamaño del cuadrado: 4\n",
    "* * * *\n",
    "*     *\n",
    "*     *\n",
    "* * * *\n",
    "\n",
    "2. Validar email --> \"Has seleccionado la opcion 2\"\n",
    "3. Insertar alumnos --> \"Has seleccionado la opcion 3\"\n",
    "4. Salir --> \"Has seleccionado la opcion 4\"\n",
    "\n",
    "Otra opcion --> opcion incorrecta\n"
   ]
  },
  {
   "cell_type": "code",
   "execution_count": null,
   "id": "0556a16d-a32e-442a-8df4-6f0abdfe3851",
   "metadata": {},
   "outputs": [
    {
     "name": "stdout",
     "output_type": "stream",
     "text": [
      "1. Pintar cuadrado\n",
      "2. Validar email\n",
      "3. Insertar alumnos\n",
      "4. Salir\n"
     ]
    },
    {
     "name": "stdin",
     "output_type": "stream",
     "text": [
      "Seleccione una opcion:  1\n"
     ]
    },
    {
     "name": "stdout",
     "output_type": "stream",
     "text": [
      "Has seleccionado la opcion 1\n"
     ]
    },
    {
     "name": "stdin",
     "output_type": "stream",
     "text": [
      "Introduce el tamaño del cuadrado:  4\n"
     ]
    },
    {
     "name": "stdout",
     "output_type": "stream",
     "text": [
      "****\n",
      "*  *\n",
      "*  *\n",
      "****\n",
      "1. Pintar cuadrado\n",
      "2. Validar email\n",
      "3. Insertar alumnos\n",
      "4. Salir\n"
     ]
    },
    {
     "name": "stdin",
     "output_type": "stream",
     "text": [
      "Seleccione una opcion:  1\n"
     ]
    },
    {
     "name": "stdout",
     "output_type": "stream",
     "text": [
      "Has seleccionado la opcion 1\n"
     ]
    },
    {
     "name": "stdin",
     "output_type": "stream",
     "text": [
      "Introduce el tamaño del cuadrado:  6\n"
     ]
    },
    {
     "name": "stdout",
     "output_type": "stream",
     "text": [
      "******\n",
      "*    *\n",
      "*    *\n",
      "*    *\n",
      "*    *\n",
      "******\n",
      "1. Pintar cuadrado\n",
      "2. Validar email\n",
      "3. Insertar alumnos\n",
      "4. Salir\n"
     ]
    },
    {
     "name": "stdin",
     "output_type": "stream",
     "text": [
      "Seleccione una opcion:  1\n"
     ]
    },
    {
     "name": "stdout",
     "output_type": "stream",
     "text": [
      "Has seleccionado la opcion 1\n"
     ]
    },
    {
     "name": "stdin",
     "output_type": "stream",
     "text": [
      "Introduce el tamaño del cuadrado:  8\n"
     ]
    },
    {
     "name": "stdout",
     "output_type": "stream",
     "text": [
      "********\n",
      "*      *\n",
      "*      *\n",
      "*      *\n",
      "*      *\n",
      "*      *\n",
      "*      *\n",
      "********\n",
      "1. Pintar cuadrado\n",
      "2. Validar email\n",
      "3. Insertar alumnos\n",
      "4. Salir\n"
     ]
    }
   ],
   "source": [
    "#Inicializo la variable\n",
    "opcion = ''\n",
    "\n",
    "#Muestro el menú\n",
    "while opcion != '4':\n",
    "    print(\"1. Pintar cuadrado\\n2. Validar email\\n3. Insertar alumnos\\n4. Salir\")\n",
    "    #Guardo la opcion elegida\n",
    "    opcion = input(\"Seleccione una opcion: \")\n",
    "    #Muestro la opcion elegida y si es correcta\n",
    "    texto = \"Has seleccionado la opcion \"\n",
    "    if opcion == '1':\n",
    "        print(texto + \"1\")\n",
    "        #Pido tamaño del cuadrado\n",
    "        tamanio_cuadrado = int(input(\"Introduce el tamaño del cuadrado: \"))\n",
    "        caracter = \"*\"\n",
    "        #Pinto el cuadrado\n",
    "        for linea in range(tamanio_cuadrado):\n",
    "            if linea == 0 or linea == tamanio_cuadrado-1:\n",
    "                print(tamanio_cuadrado * caracter)\n",
    "            else:\n",
    "                print(caracter, end = \"\")\n",
    "                cadena = \" \" * (tamanio_cuadrado - 2)\n",
    "                print(cadena, end=\"\")\n",
    "                print(caracter)\n",
    "            \n",
    "    elif opcion =='2':\n",
    "        print(texto + \"2\")\n",
    "    elif opcion == '3':\n",
    "        print(texto + \"3\")\n",
    "    elif opcion == '4':\n",
    "        print(texto + \"4. ¡Adios!\")\n",
    "    else:\n",
    "        print(\"Opcion incorrecta, vuelve a intentarlo\")"
   ]
  },
  {
   "cell_type": "code",
   "execution_count": null,
   "id": "790d6b31-cf16-47d1-9180-bfcb83ae9cab",
   "metadata": {},
   "outputs": [],
   "source": []
  },
  {
   "cell_type": "code",
   "execution_count": null,
   "id": "9faafa34-fa48-4a24-86a3-2d804ffe817b",
   "metadata": {},
   "outputs": [],
   "source": []
  }
 ],
 "metadata": {
  "kernelspec": {
   "display_name": "Python 3 (ipykernel)",
   "language": "python",
   "name": "python3"
  },
  "language_info": {
   "codemirror_mode": {
    "name": "ipython",
    "version": 3
   },
   "file_extension": ".py",
   "mimetype": "text/x-python",
   "name": "python",
   "nbconvert_exporter": "python",
   "pygments_lexer": "ipython3",
   "version": "3.9.13"
  }
 },
 "nbformat": 4,
 "nbformat_minor": 5
}
