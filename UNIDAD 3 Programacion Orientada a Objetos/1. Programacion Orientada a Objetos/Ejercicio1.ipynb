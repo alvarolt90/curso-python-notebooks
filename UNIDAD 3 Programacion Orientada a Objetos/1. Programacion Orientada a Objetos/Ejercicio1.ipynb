{
 "cells": [
  {
   "cell_type": "markdown",
   "metadata": {},
   "source": [
    "# Ejercicio 1. Orientación a Objetos\n",
    "\n",
    "- Clase Cliente\n",
    "    - Atributos\n",
    "        - Nombre (obligatorio)\n",
    "        - Apellidos (obligatorio)\n",
    "        - Cesta Compra. Diccionario \n",
    "    - Funciones\n",
    "        - Pagar. Sacar por consola el total de todos los productos de la cesta\n",
    "        \n",
    "- Creamos 2 clientes. Les asignamos un cesta de la compra. Cada cliente paga\n",
    "\n",
    "  \n",
    "    \n",
    " \n",
    "\n",
    "\n"
   ]
  },
  {
   "cell_type": "code",
   "execution_count": 2,
   "metadata": {},
   "outputs": [],
   "source": [
    "class Cliente:\n",
    "    #Init para inicializar las variables del objeto\n",
    "    def __init__ (self, nombre, apellidos, cesta_compra={} ):\n",
    "        self.nombre = nombre\n",
    "        self.apellidos = apellidos\n",
    "        self.cesta_compra = cesta_compra\n",
    "    \n",
    "    def asignar_cesta_compra (self, cesta_compra):\n",
    "        self.cesta_compra = cesta_compra\n",
    "        \n",
    "    def pagar (self):\n",
    "        total = 0\n",
    "        for articulo,precio in self.cesta_compra.items():\n",
    "            total += precio\n",
    "            \n",
    "        print (self.nombre + \" va a pagar \" + str(total))\n",
    "        "
   ]
  },
  {
   "cell_type": "code",
   "execution_count": 3,
   "metadata": {},
   "outputs": [
    {
     "name": "stdout",
     "output_type": "stream",
     "text": [
      "Nombre C\n",
      "{}\n",
      "{'Fruta': 5, 'Ropa': 30}\n",
      "Nombre C va a pagar 35\n",
      "Nombre B va a pagar 32\n"
     ]
    }
   ],
   "source": [
    "cliente1 = Cliente(\"Nombre A\",\"Apellidos A\")\n",
    "cliente2 = Cliente(\"Nombre B\",\"Apellidos B\")\n",
    "\n",
    "cliente1.nombre=\"Nombre C\"\n",
    "print(cliente1.nombre)\n",
    "print(cliente1.cesta_compra)\n",
    "\n",
    "cesta_compra_c1 ={\"Fruta\": 5 , \"Ropa\":30}\n",
    "cliente1.asignar_cesta_compra(cesta_compra_c1)\n",
    "#cliente1.cesta_compra = cesta_compra_c1\n",
    "\n",
    "print(cliente1.cesta_compra)\n",
    "\n",
    "cliente1.pagar()\n",
    "\n",
    "\n",
    "cesta_compra_c2 ={\"Fruta\": 7 , \"Ropa\":25}\n",
    "cliente2.asignar_cesta_compra(cesta_compra_c2)\n",
    "cliente2.pagar()"
   ]
  }
 ],
 "metadata": {
  "kernelspec": {
   "display_name": "Python 3",
   "language": "python",
   "name": "python3"
  },
  "language_info": {
   "codemirror_mode": {
    "name": "ipython",
    "version": 3
   },
   "file_extension": ".py",
   "mimetype": "text/x-python",
   "name": "python",
   "nbconvert_exporter": "python",
   "pygments_lexer": "ipython3",
   "version": "3.8.5"
  }
 },
 "nbformat": 4,
 "nbformat_minor": 4
}
