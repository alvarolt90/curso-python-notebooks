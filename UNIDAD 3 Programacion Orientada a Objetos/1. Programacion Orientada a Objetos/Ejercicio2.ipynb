{
 "cells": [
  {
   "cell_type": "markdown",
   "metadata": {},
   "source": [
    "# Ejercicio 2\n",
    "\n",
    "## Clases\n",
    "Producto\n",
    "    nombre\n",
    "    precio\n",
    "    \n",
    "Clientes\n",
    "    nombre\n",
    "    apellidos\n",
    "    cesta_compra-> [Productos]\n",
    "    pagar()\n",
    "    \n",
    "Supermercado \n",
    "    nombre\n",
    "    direccion\n",
    "    clientes--> [Cliente]\n",
    "    \n",
    "## Objetos\n",
    "- 1 objeto supermercado\n",
    "- 2 clientes y por cada cliente 2-3 productos\n",
    "- mostrar la información de todos los clientes del supermercado junto a los productos que tienen en la cesta\n",
    "\n",
    "\n",
    "\n"
   ]
  },
  {
   "cell_type": "code",
   "execution_count": 1,
   "metadata": {},
   "outputs": [],
   "source": [
    "class Producto:\n",
    "    def __init__ (self,nombre, precio):\n",
    "        self.nombre= nombre\n",
    "        self.precio= precio\n",
    "        \n",
    "    def __str__(self):\n",
    "        return \"El producto {} tiene un precio de {} pesos \".format(self.nombre, self.precio)"
   ]
  },
  {
   "cell_type": "code",
   "execution_count": 5,
   "metadata": {},
   "outputs": [],
   "source": [
    "class Cliente:\n",
    "    #Init para inicializar las variables del objeto\n",
    "    def __init__ (self, nombre, apellidos, cesta_compra=[] ):\n",
    "        self.nombre = nombre\n",
    "        self.apellidos = apellidos\n",
    "        self.cesta_compra = cesta_compra\n",
    "    \n",
    "    def mostrar_productos(self):\n",
    "        resultado = \"\"\n",
    "        for producto in self.cesta_compra:\n",
    "            resultado += producto.nombre + \" \" + str(producto.precio)\n",
    "        \n",
    "        return resultado\n",
    "    \n",
    "    def __str__(self):\n",
    "        return \"El cliente {} {} tiene los siguientes productos {} \".format(self.nombre,self.apellidos, self.mostrar_productos())\n",
    "    \n",
    "    def asignar_cesta_compra (self, cesta_compra):\n",
    "        self.cesta_compra = cesta_compra\n",
    "        \n",
    "    def pagar (self):\n",
    "        total = 0\n",
    "        for producto in self.cesta_compra:\n",
    "            print(producto)\n",
    "            total+=producto.precio\n",
    "            \n",
    "        print (\"El cliente {} va a pagar {} pesos\".format(self.nombre, total))"
   ]
  },
  {
   "cell_type": "code",
   "execution_count": 3,
   "metadata": {},
   "outputs": [],
   "source": [
    "class Supermercado:\n",
    "    def __init__(self,nombre, direccion, clientes=[]):\n",
    "        self.nombre= nombre\n",
    "        self.direccion= direccion\n",
    "        self.clientes= clientes\n",
    "    \n",
    "    def mostrar_datos_clientes(self):\n",
    "        for cliente in self.clientes:\n",
    "            print(cliente)"
   ]
  },
  {
   "cell_type": "code",
   "execution_count": 6,
   "metadata": {},
   "outputs": [
    {
     "name": "stdout",
     "output_type": "stream",
     "text": [
      "El cliente Cliente1 Apellidos 1 tiene los siguientes productos Producto1 8Producto4 26 \n",
      "El cliente Cliente2 Apellidos 2 tiene los siguientes productos Producto2 16Producto3 3 \n"
     ]
    }
   ],
   "source": [
    "producto1 = Producto(\"Producto1\",8)\n",
    "producto2 = Producto(\"Producto2\",16)\n",
    "producto3 = Producto(\"Producto3\",3)\n",
    "producto4 = Producto(\"Producto4\",26)\n",
    "\n",
    "cesta_cliente2 = [producto2, producto3]\n",
    "cliente1 = Cliente(\"Cliente1\", \"Apellidos 1\", [producto1, producto4])\n",
    "cliente2 = Cliente(\"Cliente2\", \"Apellidos 2\")\n",
    "cliente2.asignar_cesta_compra(cesta_cliente2)\n",
    "\n",
    "supermercado = Supermercado(\"Supermercado1\",\"Direccion1\", [cliente1,cliente2])\n",
    "supermercado.nombre = \"Supermercado12\"\n",
    "\n",
    "supermercado.mostrar_datos_clientes()"
   ]
  }
 ],
 "metadata": {
  "kernelspec": {
   "display_name": "Python 3",
   "language": "python",
   "name": "python3"
  },
  "language_info": {
   "codemirror_mode": {
    "name": "ipython",
    "version": 3
   },
   "file_extension": ".py",
   "mimetype": "text/x-python",
   "name": "python",
   "nbconvert_exporter": "python",
   "pygments_lexer": "ipython3",
   "version": "3.8.5"
  }
 },
 "nbformat": 4,
 "nbformat_minor": 4
}
