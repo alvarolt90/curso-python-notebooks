{
 "cells": [
  {
   "cell_type": "code",
   "execution_count": 1,
   "metadata": {},
   "outputs": [],
   "source": [
    "class Libro:\n",
    "    def __init__(self, titulo, autor, formato=\"Papel\"):\n",
    "        self.titulo = titulo\n",
    "        self.autor = autor\n",
    "        self.formato = formato"
   ]
  },
  {
   "cell_type": "code",
   "execution_count": 2,
   "metadata": {},
   "outputs": [
    {
     "name": "stdout",
     "output_type": "stream",
     "text": [
      "Papel\n"
     ]
    }
   ],
   "source": [
    "libro1 = Libro(\"Los Pilares de la Tierra\",\"Ken Follet\")\n",
    "libro2 = Libro(\"Una Columna de Fuego\",\"Ken Follet\",\"Electrónico\")\n",
    "libro3 = libro2\n",
    "libro3.formato= \"Papel\"\n",
    "print(libro2.formato)"
   ]
  }
 ],
 "metadata": {
  "kernelspec": {
   "display_name": "Python 3",
   "language": "python",
   "name": "python3"
  },
  "language_info": {
   "codemirror_mode": {
    "name": "ipython",
    "version": 3
   },
   "file_extension": ".py",
   "mimetype": "text/x-python",
   "name": "python",
   "nbconvert_exporter": "python",
   "pygments_lexer": "ipython3",
   "version": "3.8.5"
  }
 },
 "nbformat": 4,
 "nbformat_minor": 4
}
