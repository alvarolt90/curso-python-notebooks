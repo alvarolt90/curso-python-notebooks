{
 "cells": [
  {
   "cell_type": "code",
   "execution_count": 13,
   "metadata": {},
   "outputs": [],
   "source": [
    "class Pelicula:\n",
    "    \n",
    "    # Constructor de clase\n",
    "    def __init__(self, titulo, duracion, lanzamiento):\n",
    "        self.titulo = titulo\n",
    "        self.duracion = duracion\n",
    "        self.lanzamiento = lanzamiento\n",
    "        print('Se ha creado la película:',self.titulo)\n",
    "        \n",
    "    def __str__(self):\n",
    "        return '{} ({})'.format(self.titulo, self.lanzamiento)"
   ]
  },
  {
   "cell_type": "markdown",
   "metadata": {},
   "source": [
    "## Creando un catálogo de películas"
   ]
  },
  {
   "cell_type": "code",
   "execution_count": 11,
   "metadata": {},
   "outputs": [],
   "source": [
    "class Catalogo:\n",
    "    \n",
    "    peliculas = []  # Esta lista contendrá objetos de la clase Pelicula\n",
    "    \n",
    "    def __init__(self, nombre , tipo=\"Acción\", peliculas=[]):\n",
    "        self.nombre = nombre,\n",
    "        self.tipo = tipo,\n",
    "        self.peliculas = peliculas\n",
    "        \n",
    "    def agregar_pelicula(self,pelicula):  \n",
    "        self.peliculas.append(pelicula)\n",
    "        \n",
    "    def mostrar(self):\n",
    "        for pelicula in self.peliculas:\n",
    "            print(pelicula)  # Print toma por defecto str(p)"
   ]
  },
  {
   "cell_type": "code",
   "execution_count": 4,
   "metadata": {},
   "outputs": [
    {
     "name": "stdout",
     "output_type": "stream",
     "text": [
      "Se ha creado la película: El resplandor\n",
      "Se ha creado la película: La monja\n"
     ]
    }
   ],
   "source": [
    "pelicula1 = Pelicula(\"El resplandor\",175,1972)\n",
    "pelicula2 = Pelicula(\"La monja\",175,1972)\n",
    "\n",
    "catalogo = Catalogo(\"Catalago de peliculas de miedo\", \"Terror\", [pelicula1,pelicula2] )\n",
    "catalogo_humor = Catalogo(\"Catalago de peliculas de risa\", \"Humor\", [] )"
   ]
  },
  {
   "cell_type": "code",
   "execution_count": 14,
   "metadata": {},
   "outputs": [
    {
     "name": "stdout",
     "output_type": "stream",
     "text": [
      "Se ha creado la película: El Padrino\n",
      "Se ha creado la película: El Padrino 2\n",
      "El Padrino (1972)\n"
     ]
    }
   ],
   "source": [
    "pelicula1 = Pelicula(\"El Padrino\",175,1972)\n",
    "pelicula2 = Pelicula(\"El Padrino 2\",175,1972)\n",
    "c = Catalogo(\"Catalogo3\",peliculas=[pelicula1,pelicula2])\n",
    "print(c.peliculas[0])"
   ]
  },
  {
   "cell_type": "code",
   "execution_count": 15,
   "metadata": {},
   "outputs": [
    {
     "name": "stdout",
     "output_type": "stream",
     "text": [
      "El resplandor (1972)\n",
      "La monja (1972)\n"
     ]
    }
   ],
   "source": [
    "catalogo.mostrar()"
   ]
  },
  {
   "cell_type": "code",
   "execution_count": 7,
   "metadata": {},
   "outputs": [
    {
     "name": "stdout",
     "output_type": "stream",
     "text": [
      "Se ha creado la película: El Padrino: Parte 3\n"
     ]
    }
   ],
   "source": [
    "catalogo.agregar_pelicula(Pelicula(\"El Padrino: Parte 3\",202,1974))  # Añadimos una película directamente"
   ]
  },
  {
   "cell_type": "code",
   "execution_count": 8,
   "metadata": {},
   "outputs": [
    {
     "data": {
      "text/plain": [
       "'El Padrino'"
      ]
     },
     "execution_count": 8,
     "metadata": {},
     "output_type": "execute_result"
    }
   ],
   "source": [
    "#c.mostrar()\n",
    "\n",
    "c.peliculas[0].titulo"
   ]
  }
 ],
 "metadata": {
  "kernelspec": {
   "display_name": "Python 3",
   "language": "python",
   "name": "python3"
  },
  "language_info": {
   "codemirror_mode": {
    "name": "ipython",
    "version": 3
   },
   "file_extension": ".py",
   "mimetype": "text/x-python",
   "name": "python",
   "nbconvert_exporter": "python",
   "pygments_lexer": "ipython3",
   "version": "3.8.5"
  }
 },
 "nbformat": 4,
 "nbformat_minor": 4
}
