{
 "cells": [
  {
   "cell_type": "markdown",
   "metadata": {},
   "source": [
    "# Encapsulación\n",
    "Consiste en denegar el acceso a los atributos y métodos internos de la clase desde el exterior.\n",
    "\n",
    "En Python no existe, pero se puede simular precediendo atributos y métodos con dos barras bajas __:"
   ]
  },
  {
   "cell_type": "code",
   "execution_count": null,
   "metadata": {},
   "outputs": [],
   "source": [
    "class Ejemplo:\n",
    "    _atributo_privado = \"Soy un atributo inalcanzable desde fuera\"\n",
    "    def __init__ (self):\n",
    "        self._nombre =\"Hola\"\n",
    "        \n",
    "    def __metodo_privado(self):\n",
    "        print(\"Soy un método inalcanzable desde fuera\", self.__atributo_privado)\n",
    "        \n",
    "    def metodo1 (self):\n",
    "        self.__metodo_privado()"
   ]
  },
  {
   "cell_type": "code",
   "execution_count": 14,
   "metadata": {},
   "outputs": [
    {
     "name": "stdout",
     "output_type": "stream",
     "text": [
      "{'username': 'Cody', '_password': 'h'}\n"
     ]
    }
   ],
   "source": [
    "class User:\n",
    "\n",
    "    def __init__(self, username, password):\n",
    "        self.username = username\n",
    "        self._password = password\n",
    "\n",
    "    def set_username(self, username):\n",
    "        self.username = username\n",
    "\n",
    "    def get_username(self):\n",
    "        return self.username\n",
    "\n",
    "cody = User('Cody', 'password123')\n",
    "cody._password =\"h\"\n",
    "#cody._User__password=\"m\"\n",
    "print(cody.__dict__)\n",
    "#print(cody.__password)\n",
    "#print(cody._User__password)\n",
    "#print(cody.__password)"
   ]
  },
  {
   "cell_type": "code",
   "execution_count": null,
   "metadata": {},
   "outputs": [],
   "source": []
  },
  {
   "cell_type": "code",
   "execution_count": null,
   "metadata": {},
   "outputs": [],
   "source": [
    "e = Ejemplo()"
   ]
  },
  {
   "cell_type": "code",
   "execution_count": null,
   "metadata": {},
   "outputs": [],
   "source": [
    "e._atributo_privado=\"Hola\""
   ]
  },
  {
   "cell_type": "code",
   "execution_count": null,
   "metadata": {},
   "outputs": [],
   "source": [
    "print(e._atributo_privado)"
   ]
  },
  {
   "cell_type": "code",
   "execution_count": null,
   "metadata": {},
   "outputs": [],
   "source": [
    "e.__metodo_privado()"
   ]
  },
  {
   "cell_type": "code",
   "execution_count": null,
   "metadata": {},
   "outputs": [],
   "source": [
    "e.metodo1()"
   ]
  },
  {
   "cell_type": "markdown",
   "metadata": {},
   "source": [
    "## Cómo acceder\n",
    "Internamente la clase sí puede acceder a sus atributos y métodos encapsulados, el truco consiste en crear sus equivalentes \"publicos\":"
   ]
  },
  {
   "cell_type": "code",
   "execution_count": null,
   "metadata": {},
   "outputs": [],
   "source": [
    "class Ejemplo:\n",
    "    __atributo_privado = \"Soy un atributo inalcanzable desde fuera\"\n",
    "    \n",
    "    def __metodo_privado(self):\n",
    "        print(\"Soy un método inalcanzable desde fuera\")\n",
    "        \n",
    "    def atributo_publico(self):\n",
    "        return self.__atributo_privado\n",
    "        \n",
    "    def metodo_publico(self):\n",
    "        return self.__metodo_privado()"
   ]
  },
  {
   "cell_type": "code",
   "execution_count": null,
   "metadata": {},
   "outputs": [],
   "source": [
    "e = Ejemplo()"
   ]
  },
  {
   "cell_type": "code",
   "execution_count": null,
   "metadata": {},
   "outputs": [],
   "source": [
    "e.atributo_publico()"
   ]
  },
  {
   "cell_type": "code",
   "execution_count": null,
   "metadata": {},
   "outputs": [],
   "source": [
    "e.metodo_publico()"
   ]
  }
 ],
 "metadata": {
  "kernelspec": {
   "display_name": "Python 3",
   "language": "python",
   "name": "python3"
  },
  "language_info": {
   "codemirror_mode": {
    "name": "ipython",
    "version": 3
   },
   "file_extension": ".py",
   "mimetype": "text/x-python",
   "name": "python",
   "nbconvert_exporter": "python",
   "pygments_lexer": "ipython3",
   "version": "3.8.5"
  }
 },
 "nbformat": 4,
 "nbformat_minor": 4
}
