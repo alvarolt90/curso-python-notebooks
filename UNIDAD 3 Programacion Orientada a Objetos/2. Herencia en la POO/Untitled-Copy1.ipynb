{
 "cells": [
  {
   "cell_type": "markdown",
   "metadata": {},
   "source": [
    "# Ejercicio Herencia\n",
    "\n",
    "- Animal\n",
    "    nombre\n",
    "    tipo\n",
    "    comer() --> \"El animal {nombre} esta comiendo\"\n",
    "    \n",
    "- Vaca\n",
    "    numCuernos\n",
    "    comer() --> \"La vaca {nombre} esta pastando\"\n",
    "    \n",
    "- Leon \n",
    "    tieneMelena (booleano)\n",
    "    comer() --> \"El leon esta mordiendo la comida\"\n",
    "    \n",
    "El leon llame a comer, antes de comer se ponga a cazar\n",
    "    \n",
    "1 objeto de tipo Vaca a comer\n",
    "1 objeto de tipo Leon a comer\n",
    "meterlos en un listado, se recorran los elementos del listado y se llame comer"
   ]
  },
  {
   "cell_type": "code",
   "execution_count": 6,
   "metadata": {},
   "outputs": [],
   "source": [
    "class Animal:\n",
    "    def __init__(self,nombre,tipo):\n",
    "        self.nombre=nombre\n",
    "        self.tipo=tipo\n",
    "    \n",
    "    def comer(self):\n",
    "        print(\"El animal {} está comiendo \".format(self.nombre))"
   ]
  },
  {
   "cell_type": "code",
   "execution_count": 13,
   "metadata": {},
   "outputs": [],
   "source": [
    "class Vaca(Animal):\n",
    "    def __init__(self,nombre,tipo,num_cuernos=2):\n",
    "        Animal.__init__(self,nombre, tipo)\n",
    "        self.num_cuernos=num_cuernos\n",
    "    \n",
    "    #Sobreescribir el método comer del padre\n",
    "    def comer(self):\n",
    "        Animal.comer(self)\n",
    "        print(\"La vaca {} está pastando \".format(self.nombre))\n",
    "        "
   ]
  },
  {
   "cell_type": "code",
   "execution_count": 9,
   "metadata": {},
   "outputs": [],
   "source": [
    "class Leon(Animal):\n",
    "    def __init__(self,nombre,tipo,tiene_melena):\n",
    "        Animal.__init__(self,nombre, tipo)\n",
    "        self.tiene_melena=tiene_melena\n",
    "    \n",
    "    #Sobreescribir el método comer del padre\n",
    "    def comer(self):\n",
    "        print(\"El leon {} está masticando la comida\".format(self.nombre))\n",
    "    \n",
    "    def cazar(self):\n",
    "        print(\"El leon {} está cazando\".format(self.nombre))"
   ]
  },
  {
   "cell_type": "code",
   "execution_count": 17,
   "metadata": {},
   "outputs": [
    {
     "name": "stdout",
     "output_type": "stream",
     "text": [
      "El animal Vaca1 está comiendo \n",
      "La vaca Vaca1 está pastando \n",
      "El leon Leon1 está masticando la comida\n"
     ]
    }
   ],
   "source": [
    "vaca = Vaca(\"Vaca1\",\"Lechera\")\n",
    "vaca.comer()\n",
    "\n",
    "leon = Leon(\"Leon1\",\"Leon\",True)\n",
    "leon.comer()\n",
    "\n",
    "leon2 = Leon(\"Leon2\",\"Leon\",True)\n",
    "\n"
   ]
  },
  {
   "cell_type": "code",
   "execution_count": 21,
   "metadata": {},
   "outputs": [
    {
     "name": "stdout",
     "output_type": "stream",
     "text": [
      "El leon Leon1 está cazando\n",
      "El leon Leon1 está masticando la comida\n",
      "El animal Vaca1 está comiendo \n",
      "La vaca Vaca1 está pastando \n"
     ]
    }
   ],
   "source": [
    "animales = [leon, vaca]\n",
    "for animal in animales:\n",
    "    if (isinstance(animal, Leon)):\n",
    "        animal.cazar()\n",
    "    animal.comer()"
   ]
  }
 ],
 "metadata": {
  "kernelspec": {
   "display_name": "Python 3",
   "language": "python",
   "name": "python3"
  },
  "language_info": {
   "codemirror_mode": {
    "name": "ipython",
    "version": 3
   },
   "file_extension": ".py",
   "mimetype": "text/x-python",
   "name": "python",
   "nbconvert_exporter": "python",
   "pygments_lexer": "ipython3",
   "version": "3.8.5"
  }
 },
 "nbformat": 4,
 "nbformat_minor": 4
}
