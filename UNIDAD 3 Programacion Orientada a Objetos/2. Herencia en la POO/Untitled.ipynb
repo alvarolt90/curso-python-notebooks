{
 "cells": [
  {
   "cell_type": "markdown",
   "metadata": {},
   "source": [
    "# Ejercicio Herencia\n",
    "\n",
    "- Animal\n",
    "    - nombre\n",
    "    - tipo\n",
    "    - comer() --> \"El animal {nombre} esta comiendo\"\n",
    "    \n",
    "- Vaca\n",
    "    - numCuernos\n",
    "    - comer() --> \"La vaca {nombre} esta pastando\"\n",
    "    \n",
    "- Leon \n",
    "    - tieneMelena (booleano)\n",
    "    - comer() --> \"El leon esta mordiendo la comida\"\n",
    "    \n",
    "El leon llame a comer, antes de comer se ponga a cazar\n",
    "    \n",
    "1 objeto de tipo Vaca a comer\n",
    "1 objeto de tipo Leon a comer\n",
    "meterlos en un listado, se recorran los elementos del listado y se llame comer"
   ]
  }
 ],
 "metadata": {
  "kernelspec": {
   "display_name": "Python 3",
   "language": "python",
   "name": "python3"
  },
  "language_info": {
   "codemirror_mode": {
    "name": "ipython",
    "version": 3
   },
   "file_extension": ".py",
   "mimetype": "text/x-python",
   "name": "python",
   "nbconvert_exporter": "python",
   "pygments_lexer": "ipython3",
   "version": "3.8.5"
  }
 },
 "nbformat": 4,
 "nbformat_minor": 4
}
