{
 "cells": [
  {
   "cell_type": "markdown",
   "metadata": {},
   "source": [
    "# Ejercicio 6. Programacion Orientada Objetos"
   ]
  },
  {
   "cell_type": "markdown",
   "metadata": {},
   "source": [
    "**Crear la clase Alumno**  \n",
    "-nombre  \n",
    "-apellidos  \n",
    "-dni  \n",
    "-notas: diccionario <K:asignatura, V:nota>  \n",
    "estudiar() --> el alumno \"nombre\" esta estudiando \"asignatura obtenida de manera aleatoria del diccionario\"  \n",
    "    \n",
    "**Funcionalidad**    \n",
    "3 alumnos --> lista -->  \n",
    "    +Nota media de cada alumno --> El alumno <nombre> tiene una nota media de ...  \n",
    "    +Nota media de todos los alumnos --> La nota media de todos los alumnos es ...\n",
    "   \n",
    "Tradicional y usando funciones lambda\n"
   ]
  },
  {
   "cell_type": "code",
   "execution_count": 3,
   "metadata": {},
   "outputs": [
    {
     "name": "stdout",
     "output_type": "stream",
     "text": [
      "Alumno Andres creado.\n",
      "Alumno Guillermo creado.\n",
      "Alumno María creado.\n",
      "El alumno Guillermo está estudiando Base de Datos\n",
      "La nota media de Andres es: 8.0\n",
      "El alumno Andres está estudiando Sistemas\n",
      "El alumno Guillermo está estudiando Programación\n",
      "El alumno María está estudiando Programación\n"
     ]
    }
   ],
   "source": [
    "import random\n",
    "\n",
    "#Creación de la clase Alumno\n",
    "class Alumno():\n",
    "\n",
    "    def __init__(self, nombre, apellidos, dni, notas={}):\n",
    "        self.nombre = nombre\n",
    "        self.apellidos = apellidos\n",
    "        self.dni = dni\n",
    "        self.notas = notas\n",
    "        print(f\"Alumno {self.nombre} creado.\")\n",
    "     \n",
    "    #Asignatura generada aleatoriamente\n",
    "    def estudiar(self):\n",
    "        print(f\"El alumno {self.nombre} está estudiando {random.choice(list(self.notas.keys()))}\")\n",
    "\n",
    "\n",
    "#Creación de los Alumnos\n",
    "Alumnos = []\n",
    "Alumnos.append(Alumno(\"Andres\", \"Bujalance\", \"1111A\", {\"Base de Datos\":8, \"Programación\":7, \"Sistemas\":9}))\n",
    "Alumnos.append(Alumno(\"Guillermo\", \"Tovar\", \"2222B\", {\"Base de Datos\":6, \"Programación\":5, \"Sistemas\":8}))\n",
    "Alumnos.append(Alumno(\"María\", \"López\", \"3333C\", {\"Base de Datos\":8, \"Programación\":9, \"Sistemas\":6}))\n",
    "\n",
    "#Uso del método estudiar\n",
    "Alumnos[1].estudiar()\n",
    "\n",
    "#Funcion tradicional para obtener la nota media del alumno\n",
    "def media_alumno(alumno):\n",
    "    suma=0\n",
    "    notas=alumno.notas.values()\n",
    "    longitud=len(notas)\n",
    "    \n",
    "    for nota in notas:\n",
    "        suma+=nota\n",
    "        \n",
    "    print(f\"La nota media de {alumno.nombre} es: {suma/longitud}\")\n",
    "\n",
    "#Uso de la función\n",
    "media_alumno(Alumnos[0])\n",
    "\n",
    "#Funciones lambda\n",
    "from functools import reduce\n",
    "\n",
    "#Poner alumnos a estudiar\n",
    "result = list(map(lambda alumno : alumno.estudiar(), Alumnos))\n",
    "        "
   ]
  },
  {
   "cell_type": "code",
   "execution_count": null,
   "metadata": {},
   "outputs": [],
   "source": []
  }
 ],
 "metadata": {
  "kernelspec": {
   "display_name": "Python 3 (ipykernel)",
   "language": "python",
   "name": "python3"
  },
  "language_info": {
   "codemirror_mode": {
    "name": "ipython",
    "version": 3
   },
   "file_extension": ".py",
   "mimetype": "text/x-python",
   "name": "python",
   "nbconvert_exporter": "python",
   "pygments_lexer": "ipython3",
   "version": "3.9.13"
  }
 },
 "nbformat": 4,
 "nbformat_minor": 4
}
