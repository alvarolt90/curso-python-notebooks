{
 "cells": [
  {
   "cell_type": "markdown",
   "metadata": {},
   "source": [
    "### Ejercicio 7. Composicion. Supermercado"
   ]
  },
  {
   "cell_type": "markdown",
   "metadata": {},
   "source": [
    "-Television  \n",
    "+id  \n",
    "+marca  \n",
    "+pulgadas  \n",
    "+precio\n",
    "\n",
    "-Ordenador  \n",
    "+id  \n",
    "+marca  \n",
    "+capacidad_disco_duro  \n",
    "+ram  \n",
    "+precio  \n",
    "\n",
    "-Monitor  \n",
    "+id  \n",
    "+marca  \n",
    "+pulgadas  \n",
    "+precio\n",
    "\n",
    "-Cliente  \n",
    "+nombre\n",
    "+tipo (VIP o no)\n",
    "+carrito_compra: listado[productos]\n",
    "+pagar()\n",
    "\n",
    "-Cajera  \n",
    "+numero_empleado  \n",
    "+nombre  \n",
    "+atender_cliente()  \n",
    "\n",
    "-Tienda  \n",
    "3 clientes\n",
    "2 cajeras  \n",
    "\n",
    "Cada cliente va llenar la cesta con uno o varios productos  \n",
    "\n",
    "cajeras van a ir atendiendo a los clientes  \n",
    "\n",
    "\n",
    "Si cliente es VIP, 15% en la compra"
   ]
  },
  {
   "cell_type": "code",
   "execution_count": 1,
   "metadata": {},
   "outputs": [],
   "source": [
    "#Creación de clases\n",
    "\n",
    "class Television:\n",
    "    \n",
    "    def __init__(self, id, marca, pulgadas, precio):\n",
    "        self.id = id\n",
    "        self.marca = marca\n",
    "        self.pulgadas = pulgadas\n",
    "        self.precio = precio\n",
    "        \n",
    "class Ordenador:\n",
    "    \n",
    "    def __init__(self, id, marca, capacidad_disco_duro, ram, precio):\n",
    "        self.id = id\n",
    "        self.marca = marca\n",
    "        self.capacidad_disco_duro = capacidad_disco_duro\n",
    "        self.ram = ram\n",
    "        self.precio = precio\n",
    "        \n",
    "class Monitor:\n",
    "    \n",
    "    def __init__(self, id, marca, pulgadas, precio):\n",
    "        self.id = id\n",
    "        self.marca = marca\n",
    "        self.pulgadas = pulgadas\n",
    "        self.precio = precio\n",
    "        \n",
    "class Cliente:\n",
    "    \n",
    "    def __init__(self, nombre, tipo, cesta_compra=[]):\n",
    "        self.nombre = nombre\n",
    "        self.tipo = tipo\n",
    "        self.cesta_compra = cesta_compra\n",
    "        \n",
    "    def añadir_cesta(self, producto):\n",
    "        self.cesta_compra.append(producto)\n",
    "        print(f\"Se ha añadido el producto {producto.marca}\")\n",
    "        \n",
    "class Cajera:\n",
    "    \n",
    "    def __init__(self, numero_empleado, nombre, ocupada):\n",
    "        self.numero_empleado = numero_empleado\n",
    "        self.nombre = nombre\n",
    "        self.ocupada = ocupada\n",
    "        \n",
    "    def atender_cliente(self, cliente):\n",
    "        total=0\n",
    "        for producto in cliente.cesta_compra:\n",
    "            total+=producto.precio\n",
    "            \n",
    "        #VIP 15% de descuento\n",
    "        if cliente.tipo == True:\n",
    "            total=(total*15)/100\n",
    "            print(f\"El total a pagar es: {total} con un 15% de descuento por se cliente VIP.\")\n",
    "        else:\n",
    "            print(f\"El total a pagar es: {total}\")\n",
    "        \n",
    "                "
   ]
  },
  {
   "cell_type": "code",
   "execution_count": 2,
   "metadata": {},
   "outputs": [],
   "source": [
    "#Creación de objetos\n",
    "\n",
    "television1 = Television(\"1\", \"LG\", \"43\", 399)\n",
    "television2 = Television(\"2\", \"Sony\", \"32\", 189)\n",
    "television3 = Television(\"3\", \"Samsung\", \"55\", 599)\n",
    "\n",
    "ordenador1 = Ordenador(\"1\", \"MSI\", \"256GB\", \"8GB\", 499)\n",
    "ordenador2 = Ordenador(\"2\", \"Asus\", \"512GB\", \"16GB\", 699)\n",
    "ordenador3 = Ordenador(\"3\", \"HP\", \"1TB\", \"16GB\", 799)\n",
    "\n",
    "monitor1 = Monitor(\"1\", \"LG\", \"24\", 180)\n",
    "monitor2 = Monitor(\"2\", \"AOC\", \"27\", 229)\n",
    "monitor3 = Monitor(\"3\", \"Benq\", \"32\", 300)\n",
    "\n",
    "cliente1 = Cliente(\"Andres\", False, [])\n",
    "cliente2 = Cliente(\"Maria\", True, [])\n",
    "cliente3 = Cliente(\"Guillermo\", False, [])\n",
    "\n",
    "cajera1 = Cajera(\"1\", \"Carmen\", False)\n",
    "cajera2 = Cajera(\"2\", \"Adriana\", False)\n"
   ]
  },
  {
   "cell_type": "code",
   "execution_count": 3,
   "metadata": {},
   "outputs": [
    {
     "name": "stdout",
     "output_type": "stream",
     "text": [
      "Se ha añadido el producto Sony\n",
      "Se ha añadido el producto LG\n",
      "Se ha añadido el producto HP\n",
      "Se ha añadido el producto LG\n",
      "Se ha añadido el producto Benq\n",
      "Se ha añadido el producto Asus\n",
      "Se ha añadido el producto Samsung\n",
      "Se ha añadido el producto AOC\n",
      "Se ha añadido el producto MSI\n"
     ]
    }
   ],
   "source": [
    "#Llenando la cesta de los clientes\n",
    "\n",
    "cliente1.añadir_cesta(television2)\n",
    "cliente1.añadir_cesta(monitor1)\n",
    "cliente1.añadir_cesta(ordenador3)\n",
    "\n",
    "cliente2.añadir_cesta(television1)\n",
    "cliente2.añadir_cesta(monitor3)\n",
    "cliente2.añadir_cesta(ordenador2)\n",
    "\n",
    "cliente3.añadir_cesta(television3)\n",
    "cliente3.añadir_cesta(monitor2)\n",
    "cliente3.añadir_cesta(ordenador1)"
   ]
  },
  {
   "cell_type": "code",
   "execution_count": 4,
   "metadata": {},
   "outputs": [
    {
     "name": "stdout",
     "output_type": "stream",
     "text": [
      "Te atiende la cajera Carmen\n",
      "El total a pagar es: 1168\n"
     ]
    }
   ],
   "source": [
    "#Atendiendo a los clientes\n",
    "def atendiendo(cliente):\n",
    "    if cajera1.ocupada == False:\n",
    "        print(f\"Te atiende la cajera {cajera1.nombre}\")\n",
    "        cajera1.atender_cliente(cliente)\n",
    "    else:\n",
    "        print(f\"Te atiende la cajera {cajera2.nombre}\")\n",
    "        cajera2.atender_cliente(cliente)\n",
    "        \n",
    "atendiendo(cliente1)"
   ]
  },
  {
   "cell_type": "code",
   "execution_count": null,
   "metadata": {},
   "outputs": [],
   "source": []
  }
 ],
 "metadata": {
  "kernelspec": {
   "display_name": "Python 3 (ipykernel)",
   "language": "python",
   "name": "python3"
  },
  "language_info": {
   "codemirror_mode": {
    "name": "ipython",
    "version": 3
   },
   "file_extension": ".py",
   "mimetype": "text/x-python",
   "name": "python",
   "nbconvert_exporter": "python",
   "pygments_lexer": "ipython3",
   "version": "3.9.13"
  }
 },
 "nbformat": 4,
 "nbformat_minor": 4
}
