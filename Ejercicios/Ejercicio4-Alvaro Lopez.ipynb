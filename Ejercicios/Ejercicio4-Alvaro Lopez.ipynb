{
 "cells": [
  {
   "cell_type": "markdown",
   "id": "49d2b922-a5df-4cd8-92d4-8b8a648fa0b4",
   "metadata": {},
   "source": [
    "# Ejercicio 4. Colecciones Colegio"
   ]
  },
  {
   "cell_type": "markdown",
   "id": "3b51236b-87fe-4b58-81bd-783f5365bba6",
   "metadata": {},
   "source": [
    "Gestionar un colegio con 3 aulas, inicialmente vacias\n",
    "\n",
    "Menú\n",
    "\n",
    "1. Insertar alumno --> En que aula quieres inscribir al alumno (1, 2, 3) --> DNI, Nombre, Apellidos\n",
    "2. Mostrar alumnos colegio --> Muestra todos los alumnos del colegio por aula\n",
    "3. Mostrar alumnos aula --> Preguntamos de que aula queremos mostrar los alumnos\n",
    "4. Buscar alumno --> Preguntamos DNI --> En que aula se encuentra el alumno y si lo encuentra\n",
    "5. Salir"
   ]
  },
  {
   "cell_type": "code",
   "execution_count": 1,
   "id": "3a7b4a95-a48a-4358-bbfe-1247f1f0a14a",
   "metadata": {},
   "outputs": [
    {
     "name": "stdout",
     "output_type": "stream",
     "text": [
      "1. Insertar alumno\n",
      "2. Mostrar alumnos colegio\n",
      "3. Mostrar alumnos\n",
      "4. Buscar alumno\n",
      "5. Salir\n"
     ]
    },
    {
     "name": "stdin",
     "output_type": "stream",
     "text": [
      "Seleccione una opcion:  5\n"
     ]
    },
    {
     "name": "stdout",
     "output_type": "stream",
     "text": [
      "Has seleccionado la opcion 5. ¡Adios!\n"
     ]
    }
   ],
   "source": [
    "opcion = ''\n",
    "\n",
    "#Creo el colegio\n",
    "colegio = {1:[\"\"], 2:[\"\"], 3:[\"\"]}\n",
    "\n",
    "#Muestro el menú\n",
    "while opcion != '5':\n",
    "    print(\"1. Insertar alumno\\n2. Mostrar alumnos colegio\\n3. Mostrar alumnos\\n4. Buscar alumno\\n5. Salir\")\n",
    "    #Guardo la opcion elegida\n",
    "    opcion = input(\"Seleccione una opcion: \")\n",
    "    #Muestro la opcion elegida y si es correcta\n",
    "    texto = \"Has seleccionado la opcion \"\n",
    "    if opcion == '1':\n",
    "        print(texto + \"1\")\n",
    "        aula = int(input(\"¿En que aula quieres inscribir al alumno?\"))\n",
    "        dni = input(\"Introduce el DNI\")\n",
    "        nombre = input(\"Introduce el Nombre\")\n",
    "        apellidos = input(\"Introduce los Apellidos\")\n",
    "        #Añado el alumno al aula\n",
    "        colegio[aula]=[dni, nombre, apellidos]\n",
    "        print(\"Alumno insertado correctamente.\")\n",
    "    elif opcion == '2':\n",
    "        print(texto + \"2\")\n",
    "        #Muestro todos los alumnos del colegio\n",
    "        for aula, alumnos in colegio.items():\n",
    "            print(aula, alumnos)\n",
    "    elif opcion == '3':\n",
    "        print(texto + \"3\")\n",
    "        #Solicito el aula a mostrar\n",
    "        aula = input(\"¿Que aula quieres mostrar?\")\n",
    "        #Muestro los alumnos del aula seleccionada\n",
    "        for aul, alumnos in colegio.items():\n",
    "            if aul==aula:\n",
    "                print(f\"Aula {aul}, {alumnos}\")\n",
    "            else:\n",
    "                print(\"Aula incorrecta\")\n",
    "    elif opcion == '4':\n",
    "        print(texto + \"4\")\n",
    "        #Pregunto el DNI del alumno\n",
    "        dni = input(\"Introduce el DNI\")\n",
    "        for aul, alumno in colegio.items():\n",
    "            if alumno[0]==dni:\n",
    "                print(alumno)\n",
    "            else:\n",
    "                print(\"DNI incorrecto\")\n",
    "    elif opcion == '5':\n",
    "        print(texto + \"5. ¡Adios!\")\n",
    "    else:\n",
    "        print(\"Opcion incorrecta, vuelve a intentarlo\")"
   ]
  },
  {
   "cell_type": "code",
   "execution_count": null,
   "id": "4db9a1ca-14b6-462f-bd8d-ede260be647d",
   "metadata": {},
   "outputs": [],
   "source": []
  }
 ],
 "metadata": {
  "kernelspec": {
   "display_name": "Python 3 (ipykernel)",
   "language": "python",
   "name": "python3"
  },
  "language_info": {
   "codemirror_mode": {
    "name": "ipython",
    "version": 3
   },
   "file_extension": ".py",
   "mimetype": "text/x-python",
   "name": "python",
   "nbconvert_exporter": "python",
   "pygments_lexer": "ipython3",
   "version": "3.9.13"
  }
 },
 "nbformat": 4,
 "nbformat_minor": 5
}
