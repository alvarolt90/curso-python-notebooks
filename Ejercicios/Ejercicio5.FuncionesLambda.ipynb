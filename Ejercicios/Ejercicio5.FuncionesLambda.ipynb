{
 "cells": [
  {
   "cell_type": "markdown",
   "metadata": {},
   "source": [
    "## Ejercicio5. Funciones Lambda"
   ]
  },
  {
   "cell_type": "markdown",
   "metadata": {},
   "source": [
    "A partir del siguiente listado de emails:\n",
    "lista_emails = [\"asdasdas.es\",\"asdas asdsdsa@sda.e\",\"asdasd@asdas@asdsad.es\", \"asdad@a.es\", \"a sgsdfsd@a.esfa.sfasdf\", \"asdas.dasd@as.dsfd.as.es \"]\n",
    "- obtener, los nombres de usuario de aquellos emails que sean validos (valido: 1@, no tiene espacios en blanco, despues de la @ hay 1 punto)\n",
    "- indicar el número de emails validos que hay dentro del listado\n"
   ]
  },
  {
   "cell_type": "code",
   "execution_count": 37,
   "metadata": {},
   "outputs": [
    {
     "name": "stdout",
     "output_type": "stream",
     "text": [
      "Emails válidos: ['asdas asdsdsa@sda.e', 'a sgsdfsd@a.esfa.sfasdf', 'asdas.dasd@as.dsfd.as.es ']\n",
      "Nombre de los emails válidos: ['asdas asdsdsa', 'a sgsdfsd', 'asdas.dasd']\n",
      "El número de emails válidos es de: 3\n"
     ]
    }
   ],
   "source": [
    "#Lista de emails\n",
    "lista_emails = [\"asdasdas.es\",\"asdas asdsdsa@sda.e\",\"asdasd@asdas@asdsad.es\", \"asdad@a.es\", \"a sgsdfsd@a.esfa.sfasdf\", \"asdas.dasd@as.dsfd.as.es \"]\n",
    "\n",
    "#Validando emails\n",
    "emails_validados = list(filter(lambda email: email.count(\" \") > 0 and email.count('@') == 1 and email.split('@')[-1].count('.') >= 1, lista_emails))\n",
    "print(f\"Emails válidos: {emails_validados}\")\n",
    "\n",
    "#Mostrando nombre de los emails\n",
    "nombre_emails = list(map(lambda nombre: nombre.split('@'), emails_validados))\n",
    "nombres = list(map(lambda nombre: nombre[0], nombre_emails))\n",
    "print(f\"Nombre de los emails válidos: {nombres}\")\n",
    "\n",
    "#Contando numero de emails validos\n",
    "print(f\"El número de emails válidos es de: {len(emails_validados)}\")\n"
   ]
  },
  {
   "cell_type": "code",
   "execution_count": null,
   "metadata": {},
   "outputs": [],
   "source": []
  }
 ],
 "metadata": {
  "kernelspec": {
   "display_name": "Python 3 (ipykernel)",
   "language": "python",
   "name": "python3"
  },
  "language_info": {
   "codemirror_mode": {
    "name": "ipython",
    "version": 3
   },
   "file_extension": ".py",
   "mimetype": "text/x-python",
   "name": "python",
   "nbconvert_exporter": "python",
   "pygments_lexer": "ipython3",
   "version": "3.9.13"
  }
 },
 "nbformat": 4,
 "nbformat_minor": 4
}
